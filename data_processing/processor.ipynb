{
 "cells": [
  {
   "cell_type": "code",
   "execution_count": 1,
   "id": "8ddb59ff",
   "metadata": {},
   "outputs": [],
   "source": [
    "import uproot\n",
    "from tqdm import tqdm\n",
    "import numpy as np\n",
    "\n",
    "# txt files from\n",
    "# https://doi.org/10.57760/sciencedb.16322"
   ]
  },
  {
   "cell_type": "code",
   "execution_count": 2,
   "id": "12740d0f",
   "metadata": {},
   "outputs": [],
   "source": [
    "def read_root_file(filename, max_tags = 300):\n",
    "    # Open the file and access the TTree\n",
    "    with uproot.open(filename) as file:\n",
    "        tree = file[\"sim\"]\n",
    "\n",
    "        # Load branches\n",
    "        wf_i = tree[\"wf_i\"].array(library=\"np\")\n",
    "        mom = tree[\"mom\"].array(library=\"np\")\n",
    "        time = tree[\"time\"].array(library=\"np\")\n",
    "        tag = tree[\"tag\"].array(library=\"np\")\n",
    "\n",
    "        n_events = len(wf_i)\n",
    "\n",
    "        # Preallocate output array\n",
    "        result_dtype = np.dtype([\n",
    "            (\"wf_i\", np.float32, (3000,)),\n",
    "            (\"mom\", np.float32),\n",
    "            (\"tag_times\", np.int32, (max_tags,)),\n",
    "            (\"tag_values\", np.int32, (max_tags,))\n",
    "        ])\n",
    "        result = np.zeros(n_events, dtype=result_dtype)\n",
    "\n",
    "        for i in range(n_events):\n",
    "            result[i][\"wf_i\"] = wf_i[i]\n",
    "            result[i][\"mom\"] = mom[i]\n",
    "\n",
    "            tag_indices = np.where(tag[i] > 0)[0]\n",
    "            n_tags = min(len(tag_indices), max_tags)\n",
    "\n",
    "            # Fill the actual values, rest remains zero\n",
    "            result[i][\"tag_times\"][:n_tags] = time[i][tag_indices[:n_tags]]\n",
    "            result[i][\"tag_values\"][:n_tags] = tag[i][tag_indices[:n_tags]]\n",
    "\n",
    "    return result\n",
    "\n",
    "def process_multiple_files(file_list, output_file, max_tags = 300):\n",
    "    all_data = []\n",
    "\n",
    "    for filename in file_list:\n",
    "        print(f\"Processing: {filename}\")\n",
    "        data = read_root_file(filename, max_tags)\n",
    "        all_data.append(data)\n",
    "\n",
    "    combined_data = np.concatenate(all_data)\n",
    "    np.savez_compressed(output_file, \n",
    "                        wf_i = combined_data['wf_i'],\n",
    "                        mom = combined_data['mom'],\n",
    "                        tag_times = combined_data['tag_times'],\n",
    "                        tag_values = combined_data['tag_values'],)\n",
    "    print(f\"Saved combined data to {output_file}\")\n",
    "\n",
    "    return combined_data"
   ]
  },
  {
   "cell_type": "code",
   "execution_count": 3,
   "id": "beea27aa",
   "metadata": {},
   "outputs": [],
   "source": [
    "import os\n",
    "import numpy as np\n",
    "import requests\n",
    "from pathlib import Path\n",
    "from tqdm import tqdm\n",
    "\n",
    "from urllib.parse import urlparse, parse_qs\n",
    "\n",
    "def get_filename_from_url(url):\n",
    "    query = parse_qs(urlparse(url).query)\n",
    "    return query.get('fileName', [os.path.basename(urlparse(url).path)])[0]\n",
    "\n",
    "def download_file(url, output_dir):\n",
    "    filename = get_filename_from_url(url)\n",
    "    local_path = os.path.join(output_dir, filename)\n",
    "\n",
    "    if os.path.exists(local_path):\n",
    "        print(f\"File already exists: {local_path}\")\n",
    "        return local_path\n",
    "\n",
    "    try:\n",
    "        with requests.get(url, stream=True, timeout=60) as r:\n",
    "            r.raise_for_status()\n",
    "            total_size = int(r.headers.get('Content-Length', 0))\n",
    "            block_size = 1024 * 1024  # 1 MB\n",
    "            use_total = total_size > 0\n",
    "\n",
    "            desc = filename[:40] + (\"...\" if len(filename) > 40 else \"\")\n",
    "            t = tqdm(total=total_size if use_total else None,\n",
    "                     unit='iB', unit_scale=True, desc=desc)\n",
    "\n",
    "            with open(local_path, 'wb') as f:\n",
    "                for chunk in r.iter_content(chunk_size=block_size):\n",
    "                    if chunk:\n",
    "                        f.write(chunk)\n",
    "                        t.update(len(chunk))\n",
    "            t.close()\n",
    "\n",
    "        return local_path\n",
    "    except Exception as e:\n",
    "        print(f\"Failed to download {url}: {e}\")\n",
    "        return None\n",
    "\n",
    "def process_in_batches(url_file, output_dir, batch_size, max_tags):\n",
    "    # Make sure the output directory exists\n",
    "    os.makedirs(output_dir, exist_ok=True)\n",
    "\n",
    "    # Read all URLs\n",
    "    with open(url_file, 'r') as f:\n",
    "        urls = [line.strip() for line in f if line.strip()]\n",
    "\n",
    "    # Process in batches\n",
    "    for i in range(0, len(urls), batch_size):\n",
    "        batch_urls = urls[i:i+batch_size]\n",
    "        local_files = []\n",
    "\n",
    "        print(f\"Processing batch {i // batch_size + 1}...\")\n",
    "        for url in batch_urls:\n",
    "            local_path = download_file(url, output_dir)\n",
    "            local_files.append(local_path)\n",
    "\n",
    "        npz_name = os.path.join(output_dir, f\"batch_{i // batch_size}.npz\")\n",
    "        data = process_multiple_files(local_files, npz_name, max_tags)\n",
    "\n",
    "        # Clean up downloaded root files\n",
    "        for fpath in local_files:\n",
    "            os.remove(fpath)\n",
    "\n",
    "        print(f\"Saved {npz_name} and deleted temporary root files.\\n\")\n",
    "\n",
    "    return data"
   ]
  },
  {
   "cell_type": "code",
   "execution_count": null,
   "id": "4b1270a5",
   "metadata": {},
   "outputs": [
    {
     "name": "stdout",
     "output_type": "stream",
     "text": [
      "Processing batch 1...\n"
     ]
    },
    {
     "name": "stderr",
     "output_type": "stream",
     "text": [
      "signal_noise05_PFtrain_20.root: 100%|██████████| 403M/403M [00:31<00:00, 12.8MiB/s] \n",
      "signal_noise05_PFtrain_11.root: 100%|██████████| 403M/403M [00:32<00:00, 12.4MiB/s] \n",
      "signal_noise05_PFtrain_18.root:  43%|████▎     | 172M/403M [08:38<24:36, 156kiB/s]  "
     ]
    }
   ],
   "source": [
    "max_tags = 300\n",
    "\n",
    "data = process_in_batches(\"./peakfind_train.txt\", \"kaon\", batch_size=10, max_tags=300)"
   ]
  },
  {
   "cell_type": "code",
   "execution_count": null,
   "id": "70c47892",
   "metadata": {},
   "outputs": [],
   "source": [
    "process_in_batches(\"./peakfind_test.txt\", \"processed_data_test\", batch_size=10, max_tags=300)"
   ]
  },
  {
   "cell_type": "code",
   "execution_count": 50,
   "id": "2098db29",
   "metadata": {},
   "outputs": [
    {
     "name": "stdout",
     "output_type": "stream",
     "text": [
      "(10000, 3000)\n",
      "(10000,)\n",
      "(10000, 300)\n",
      "(10000, 300)\n"
     ]
    }
   ],
   "source": [
    "print(data['wf_i'].shape)\n",
    "print(data['mom'].shape)\n",
    "print(data['tag_times'].shape)\n",
    "print(data['tag_values'].shape)"
   ]
  },
  {
   "cell_type": "code",
   "execution_count": 29,
   "id": "13ef5dec",
   "metadata": {},
   "outputs": [
    {
     "name": "stdout",
     "output_type": "stream",
     "text": [
      "[1 1 2 2 2 2 2 2 1 2 2 2 2 2 2 2 2 2 2 2 1 1 1 1 1 1 1 1 1 1 1 1 1 1 1 1 1\n",
      " 2 1 1 1 2 1 1 2 2 2 2 2 2 2 2 2 2 2 2 2 2 2 2 2 1 2 1 1 0 0 0 0 0 0 0 0 0\n",
      " 0 0 0 0 0 0 0 0 0 0 0 0 0 0 0 0 0 0 0 0 0 0 0 0 0 0 0 0 0 0 0 0 0 0 0 0 0\n",
      " 0 0 0 0 0 0 0 0 0 0 0 0 0 0 0 0 0 0 0 0 0 0 0 0 0 0 0 0 0 0 0 0 0 0 0 0 0\n",
      " 0 0 0 0 0 0 0 0 0 0 0 0 0 0 0 0 0 0 0 0 0 0 0 0 0 0 0 0 0 0 0 0 0 0 0 0 0\n",
      " 0 0 0 0 0 0 0 0 0 0 0 0 0 0 0 0 0 0 0 0 0 0 0 0 0 0 0 0 0 0 0 0 0 0 0 0 0\n",
      " 0 0 0 0 0 0 0 0 0 0 0 0 0 0 0 0 0 0 0 0 0 0 0 0 0 0 0 0 0 0 0 0 0 0 0 0 0\n",
      " 0 0 0 0 0 0 0 0 0 0 0 0 0 0 0 0 0 0 0 0 0 0 0 0 0 0 0 0 0 0 0 0 0 0 0 0 0\n",
      " 0 0 0 0]\n"
     ]
    }
   ],
   "source": [
    "#print(data['wf_i'][0])\n",
    "#print(data['mom'][0])\n",
    "#print(data['tag_times'][0])\n",
    "print(data['tag_values'][0])\n",
    "#print(data['tag_mask'][0])"
   ]
  },
  {
   "cell_type": "code",
   "execution_count": 30,
   "id": "e015df65",
   "metadata": {},
   "outputs": [],
   "source": [
    "import matplotlib.pyplot as plt"
   ]
  },
  {
   "cell_type": "code",
   "execution_count": 44,
   "id": "c8d27d28",
   "metadata": {},
   "outputs": [
    {
     "data": {
      "text/plain": [
       "(0.0, 14.557700336538256)"
      ]
     },
     "execution_count": 44,
     "metadata": {},
     "output_type": "execute_result"
    },
    {
     "data": {
      "image/png": "[encoded data removed]",
      "text/plain": [
       "<Figure size 640x480 with 1 Axes>"
      ]
     },
     "metadata": {},
     "output_type": "display_data"
    }
   ],
   "source": [
    "iev = 0\n",
    "plt.scatter(np.arange(data['wf_i'][iev].shape[0]),data['wf_i'][iev],s=0.1);\n",
    "plt.scatter(data['tag_times'][iev,data['tag_values'][iev]==1],data['wf_i'][iev][data['tag_times'][iev,data['tag_values'][iev]==1]],s=0.6,color='r')\n",
    "plt.scatter(data['tag_times'][iev,data['tag_values'][iev]==2],data['wf_i'][iev][data['tag_times'][iev,data['tag_values'][iev]==2]],s=0.4,color='g')\n",
    "plt.ylim(0)"
   ]
  },
  {
   "cell_type": "markdown",
   "id": "b56100c0",
   "metadata": {},
   "source": [
    "# Kaon Pion Loading"
   ]
  },
  {
   "cell_type": "code",
   "execution_count": 5,
   "id": "a04f9788",
   "metadata": {},
   "outputs": [],
   "source": [
    "# get all urls and make new files for just the kaon urls and just the pion urls\n",
    "\n",
    "file_path = 'all_file_urls.txt'\n",
    "with open(file_path, 'r') as f:\n",
    "        urls = [line.strip() for line in f if line.strip()]\n",
    "\n",
    "kaon_urls = []\n",
    "pion_urls = []\n",
    "\n",
    "for url in urls:\n",
    "    if 'kaon' in url:\n",
    "        kaon_urls.append(url)\n",
    "\n",
    "    if 'pion' in url:\n",
    "        pion_urls.append(url)"
   ]
  },
  {
   "cell_type": "code",
   "execution_count": 6,
   "id": "bafc86b9",
   "metadata": {},
   "outputs": [],
   "source": [
    "with open('kaon_urls.txt', 'w') as file:\n",
    "    for line in kaon_urls:\n",
    "        file.write(line + '\\n') \n",
    "\n",
    "with open('pion_urls.txt', 'w') as file:\n",
    "    for line in pion_urls:\n",
    "        file.write(line + '\\n') "
   ]
  },
  {
   "cell_type": "code",
   "execution_count": 7,
   "id": "8716657c",
   "metadata": {},
   "outputs": [
    {
     "name": "stdout",
     "output_type": "stream",
     "text": [
      "Processing batch 1...\n"
     ]
    },
    {
     "name": "stderr",
     "output_type": "stream",
     "text": [
      "signal_K_12.5_57.root: 100%|██████████| 401M/401M [00:42<00:00, 9.51MiB/s] \n",
      "signal_K_20.0_35.root: 100%|██████████| 402M/402M [00:32<00:00, 12.3MiB/s] \n",
      "signal_K_17.5_60.root: 100%|██████████| 402M/402M [00:33<00:00, 12.2MiB/s] \n",
      "signal_K_12.5_55.root: 100%|██████████| 401M/401M [00:33<00:00, 12.1MiB/s] \n",
      "signal_K_12.5_50.root: 100%|██████████| 401M/401M [00:36<00:00, 11.0MiB/s] \n",
      "signal_K_20.0_32.root: 100%|██████████| 402M/402M [00:34<00:00, 11.8MiB/s] \n",
      "signal_K_10.0_18.root: 100%|██████████| 401M/401M [00:32<00:00, 12.3MiB/s] \n",
      "signal_K_10.0_10.root: 100%|██████████| 401M/401M [00:31<00:00, 12.5MiB/s] \n",
      "signal_K_5.0_5.root: 100%|██████████| 400M/400M [00:34<00:00, 11.7MiB/s] \n",
      "signal_K_17.5_61.root: 100%|██████████| 402M/402M [00:33<00:00, 11.8MiB/s] \n"
     ]
    },
    {
     "name": "stdout",
     "output_type": "stream",
     "text": [
      "Processing: kaon/signal_K_12.5_57.root\n",
      "Processing: kaon/signal_K_20.0_35.root\n",
      "Processing: kaon/signal_K_17.5_60.root\n",
      "Processing: kaon/signal_K_12.5_55.root\n",
      "Processing: kaon/signal_K_12.5_50.root\n",
      "Processing: kaon/signal_K_20.0_32.root\n",
      "Processing: kaon/signal_K_10.0_18.root\n",
      "Processing: kaon/signal_K_10.0_10.root\n",
      "Processing: kaon/signal_K_5.0_5.root\n",
      "Processing: kaon/signal_K_17.5_61.root\n",
      "Saved combined data to kaon/batch_0.npz\n",
      "Saved kaon/batch_0.npz and deleted temporary root files.\n",
      "\n",
      "Processing batch 2...\n"
     ]
    },
    {
     "name": "stderr",
     "output_type": "stream",
     "text": [
      "signal_K_17.5_67.root: 100%|██████████| 402M/402M [00:33<00:00, 12.2MiB/s] \n",
      "signal_K_15.0_20.root: 100%|██████████| 402M/402M [00:34<00:00, 11.6MiB/s] \n",
      "signal_K_5.0_6.root: 100%|██████████| 400M/400M [00:34<00:00, 11.7MiB/s] \n",
      "signal_K_10.0_14.root: 100%|██████████| 401M/401M [00:33<00:00, 11.9MiB/s] \n",
      "signal_K_5.0_9.root: 100%|██████████| 400M/400M [00:35<00:00, 11.3MiB/s] \n"
     ]
    },
    {
     "name": "stdout",
     "output_type": "stream",
     "text": [
      "File already exists: kaon/signal_K_15.0_29.root\n",
      "File already exists: kaon/signal_K_7.5_42.root\n",
      "File already exists: kaon/signal_K_10.0_13.root\n",
      "File already exists: kaon/signal_K_15.0_23.root\n",
      "File already exists: kaon/signal_K_5.0_2.root\n",
      "Processing: kaon/signal_K_17.5_67.root\n",
      "Processing: kaon/signal_K_15.0_20.root\n",
      "Processing: kaon/signal_K_5.0_6.root\n",
      "Processing: kaon/signal_K_10.0_14.root\n",
      "Processing: kaon/signal_K_5.0_9.root\n",
      "Processing: kaon/signal_K_15.0_29.root\n",
      "Processing: kaon/signal_K_7.5_42.root\n",
      "Processing: kaon/signal_K_10.0_13.root\n",
      "Processing: kaon/signal_K_15.0_23.root\n",
      "Processing: kaon/signal_K_5.0_2.root\n",
      "Saved combined data to kaon/batch_1.npz\n",
      "Saved kaon/batch_1.npz and deleted temporary root files.\n",
      "\n",
      "Processing batch 3...\n"
     ]
    },
    {
     "name": "stderr",
     "output_type": "stream",
     "text": [
      "signal_K_10.0_17.root: 100%|██████████| 401M/401M [00:33<00:00, 11.9MiB/s] \n",
      "signal_K_15.0_24.root: 100%|██████████| 402M/402M [00:32<00:00, 12.2MiB/s] \n",
      "signal_K_17.5_65.root: 100%|██████████| 402M/402M [00:32<00:00, 12.5MiB/s] \n",
      "signal_K_5.0_8.root: 100%|██████████| 400M/400M [00:32<00:00, 12.5MiB/s] \n",
      "signal_K_12.5_56.root: 100%|██████████| 401M/401M [00:34<00:00, 11.8MiB/s] \n",
      "signal_K_7.5_45.root: 100%|██████████| 400M/400M [00:35<00:00, 11.3MiB/s] \n",
      "signal_K_17.5_68.root: 100%|██████████| 402M/402M [00:32<00:00, 12.4MiB/s] \n",
      "signal_K_7.5_44.root: 100%|██████████| 400M/400M [00:34<00:00, 11.5MiB/s] \n",
      "signal_K_15.0_28.root: 100%|██████████| 401M/401M [00:31<00:00, 12.6MiB/s] \n",
      "signal_K_20.0_37.root: 100%|██████████| 402M/402M [00:32<00:00, 12.4MiB/s] \n"
     ]
    },
    {
     "name": "stdout",
     "output_type": "stream",
     "text": [
      "Processing: kaon/signal_K_10.0_17.root\n",
      "Processing: kaon/signal_K_15.0_24.root\n",
      "Processing: kaon/signal_K_17.5_65.root\n",
      "Processing: kaon/signal_K_5.0_8.root\n",
      "Processing: kaon/signal_K_12.5_56.root\n",
      "Processing: kaon/signal_K_7.5_45.root\n",
      "Processing: kaon/signal_K_17.5_68.root\n",
      "Processing: kaon/signal_K_7.5_44.root\n",
      "Processing: kaon/signal_K_15.0_28.root\n",
      "Processing: kaon/signal_K_20.0_37.root\n",
      "Saved combined data to kaon/batch_2.npz\n",
      "Saved kaon/batch_2.npz and deleted temporary root files.\n",
      "\n",
      "Processing batch 4...\n"
     ]
    },
    {
     "name": "stderr",
     "output_type": "stream",
     "text": [
      "signal_K_15.0_27.root: 100%|██████████| 402M/402M [00:34<00:00, 11.7MiB/s] \n",
      "signal_K_15.0_26.root: 100%|██████████| 402M/402M [00:35<00:00, 11.4MiB/s] \n",
      "signal_K_7.5_40.root: 100%|██████████| 400M/400M [00:33<00:00, 12.1MiB/s] \n",
      "signal_K_20.0_39.root: 100%|██████████| 402M/402M [00:35<00:00, 11.4MiB/s] \n",
      "signal_K_7.5_46.root: 100%|██████████| 400M/400M [00:31<00:00, 12.6MiB/s] \n",
      "signal_K_17.5_69.root: 100%|██████████| 402M/402M [00:34<00:00, 11.7MiB/s] \n",
      "signal_K_12.5_58.root: 100%|██████████| 401M/401M [00:33<00:00, 11.9MiB/s] \n",
      "signal_K_10.0_19.root: 100%|██████████| 401M/401M [00:33<00:00, 12.0MiB/s] \n",
      "signal_K_15.0_22.root: 100%|██████████| 402M/402M [00:35<00:00, 11.4MiB/s] \n",
      "signal_K_20.0_34.root: 100%|██████████| 402M/402M [00:32<00:00, 12.5MiB/s] \n"
     ]
    },
    {
     "name": "stdout",
     "output_type": "stream",
     "text": [
      "Processing: kaon/signal_K_15.0_27.root\n",
      "Processing: kaon/signal_K_15.0_26.root\n",
      "Processing: kaon/signal_K_7.5_40.root\n",
      "Processing: kaon/signal_K_20.0_39.root\n",
      "Processing: kaon/signal_K_7.5_46.root\n",
      "Processing: kaon/signal_K_17.5_69.root\n",
      "Processing: kaon/signal_K_12.5_58.root\n",
      "Processing: kaon/signal_K_10.0_19.root\n",
      "Processing: kaon/signal_K_15.0_22.root\n",
      "Processing: kaon/signal_K_20.0_34.root\n",
      "Saved combined data to kaon/batch_3.npz\n",
      "Saved kaon/batch_3.npz and deleted temporary root files.\n",
      "\n",
      "Processing batch 5...\n"
     ]
    },
    {
     "name": "stderr",
     "output_type": "stream",
     "text": [
      "signal_K_10.0_16.root: 100%|██████████| 401M/401M [00:31<00:00, 12.5MiB/s] \n",
      "signal_K_17.5_63.root: 100%|██████████| 402M/402M [00:32<00:00, 12.4MiB/s] \n",
      "signal_K_20.0_33.root: 100%|██████████| 402M/402M [00:32<00:00, 12.5MiB/s] \n",
      "signal_K_17.5_66.root: 100%|██████████| 402M/402M [00:34<00:00, 11.7MiB/s] \n",
      "signal_K_12.5_54.root: 100%|██████████| 401M/401M [00:32<00:00, 12.4MiB/s] \n",
      "signal_K_10.0_11.root: 100%|██████████| 401M/401M [00:36<00:00, 11.0MiB/s] \n",
      "signal_K_20.0_38.root: 100%|██████████| 402M/402M [00:34<00:00, 11.8MiB/s] \n",
      "signal_K_20.0_30.root: 100%|██████████| 402M/402M [00:32<00:00, 12.5MiB/s] \n",
      "signal_K_5.0_1.root: 100%|██████████| 400M/400M [00:33<00:00, 12.0MiB/s] \n",
      "signal_K_5.0_7.root: 100%|██████████| 400M/400M [00:33<00:00, 12.1MiB/s] \n"
     ]
    },
    {
     "name": "stdout",
     "output_type": "stream",
     "text": [
      "Processing: kaon/signal_K_10.0_16.root\n",
      "Processing: kaon/signal_K_17.5_63.root\n",
      "Processing: kaon/signal_K_20.0_33.root\n",
      "Processing: kaon/signal_K_17.5_66.root\n",
      "Processing: kaon/signal_K_12.5_54.root\n",
      "Processing: kaon/signal_K_10.0_11.root\n",
      "Processing: kaon/signal_K_20.0_38.root\n",
      "Processing: kaon/signal_K_20.0_30.root\n",
      "Processing: kaon/signal_K_5.0_1.root\n",
      "Processing: kaon/signal_K_5.0_7.root\n",
      "Saved combined data to kaon/batch_4.npz\n",
      "Saved kaon/batch_4.npz and deleted temporary root files.\n",
      "\n",
      "Processing batch 6...\n"
     ]
    },
    {
     "name": "stderr",
     "output_type": "stream",
     "text": [
      "signal_K_5.0_3.root: 100%|██████████| 400M/400M [00:32<00:00, 12.1MiB/s] \n",
      "signal_K_7.5_48.root: 100%|██████████| 400M/400M [00:32<00:00, 12.2MiB/s] \n",
      "signal_K_12.5_52.root: 100%|██████████| 401M/401M [00:31<00:00, 12.7MiB/s] \n",
      "signal_K_7.5_41.root: 100%|██████████| 400M/400M [00:32<00:00, 12.2MiB/s] \n",
      "signal_K_12.5_51.root: 100%|██████████| 401M/401M [00:32<00:00, 12.2MiB/s] \n",
      "signal_K_7.5_43.root: 100%|██████████| 400M/400M [00:33<00:00, 12.0MiB/s] \n",
      "signal_K_15.0_25.root: 100%|██████████| 401M/401M [00:32<00:00, 12.2MiB/s] \n",
      "signal_K_15.0_21.root: 100%|██████████| 402M/402M [00:31<00:00, 12.6MiB/s] \n",
      "signal_K_10.0_12.root: 100%|██████████| 401M/401M [00:33<00:00, 12.0MiB/s] \n",
      "signal_K_7.5_47.root: 100%|██████████| 400M/400M [00:32<00:00, 12.4MiB/s] \n"
     ]
    },
    {
     "name": "stdout",
     "output_type": "stream",
     "text": [
      "Processing: kaon/signal_K_5.0_3.root\n",
      "Processing: kaon/signal_K_7.5_48.root\n",
      "Processing: kaon/signal_K_12.5_52.root\n",
      "Processing: kaon/signal_K_7.5_41.root\n",
      "Processing: kaon/signal_K_12.5_51.root\n",
      "Processing: kaon/signal_K_7.5_43.root\n",
      "Processing: kaon/signal_K_15.0_25.root\n",
      "Processing: kaon/signal_K_15.0_21.root\n",
      "Processing: kaon/signal_K_10.0_12.root\n",
      "Processing: kaon/signal_K_7.5_47.root\n",
      "Saved combined data to kaon/batch_5.npz\n",
      "Saved kaon/batch_5.npz and deleted temporary root files.\n",
      "\n",
      "Processing batch 7...\n"
     ]
    },
    {
     "name": "stderr",
     "output_type": "stream",
     "text": [
      "signal_K_12.5_53.root: 100%|██████████| 401M/401M [00:32<00:00, 12.3MiB/s] \n",
      "signal_K_5.0_4.root: 100%|██████████| 400M/400M [00:33<00:00, 12.1MiB/s] \n",
      "signal_K_7.5_49.root: 100%|██████████| 400M/400M [00:32<00:00, 12.3MiB/s] \n",
      "signal_K_10.0_15.root: 100%|██████████| 401M/401M [00:33<00:00, 11.9MiB/s] \n",
      "signal_K_12.5_59.root: 100%|██████████| 401M/401M [00:33<00:00, 12.1MiB/s] \n",
      "signal_K_17.5_64.root: 100%|██████████| 402M/402M [00:32<00:00, 12.3MiB/s] \n",
      "signal_K_20.0_31.root: 100%|██████████| 402M/402M [00:37<00:00, 10.8MiB/s] \n",
      "signal_K_5.0_0.root: 100%|██████████| 400M/400M [00:32<00:00, 12.4MiB/s] \n",
      "signal_K_20.0_36.root: 100%|██████████| 402M/402M [00:32<00:00, 12.2MiB/s] \n",
      "signal_K_17.5_62.root: 100%|██████████| 402M/402M [00:32<00:00, 12.3MiB/s] \n"
     ]
    },
    {
     "name": "stdout",
     "output_type": "stream",
     "text": [
      "Processing: kaon/signal_K_12.5_53.root\n",
      "Processing: kaon/signal_K_5.0_4.root\n",
      "Processing: kaon/signal_K_7.5_49.root\n",
      "Processing: kaon/signal_K_10.0_15.root\n",
      "Processing: kaon/signal_K_12.5_59.root\n",
      "Processing: kaon/signal_K_17.5_64.root\n",
      "Processing: kaon/signal_K_20.0_31.root\n",
      "Processing: kaon/signal_K_5.0_0.root\n",
      "Processing: kaon/signal_K_20.0_36.root\n",
      "Processing: kaon/signal_K_17.5_62.root\n",
      "Saved combined data to kaon/batch_6.npz\n",
      "Saved kaon/batch_6.npz and deleted temporary root files.\n",
      "\n"
     ]
    },
    {
     "data": {
      "text/plain": [
       "array([([ 1.42939975e-02,  3.39381769e-02, -1.44113749e-02, ...,  6.77389354e-02,  7.89171979e-02,  6.64613023e-02], 12.5, [ 126,  127,  128,  132,  142,  150,  151,  185,  187,  220,  224,  233,  249,  265,  274,  285,  310,  323,  387,  393,  402,  515,  533,  553,  582,  584,  585,  590,  591,  592,  594,  596,  598,  604,  605,  607,  609,  610,  611,  613,  614,  616,  617,  618,  622,  624,  625,  627,  628,  629,  631,  633,  635,  637,  639,  640,  641,  644,  646,  647,  649,  651,  654,  655,  656,  657,  660,  664,  673,  695,  754,  868,  869,  963,  964, 1064, 1065, 1108, 1223, 1383, 1439, 1497, 1513, 2252, 2350,    0,    0,    0,    0,    0,    0,    0,    0,    0,    0,    0,    0,    0,    0,    0,    0,    0,    0,    0,    0,    0,    0,    0,    0,    0,    0,    0,    0,    0,    0,    0,    0,    0,    0,    0,    0,    0,    0,    0,    0,    0,    0,    0,    0,    0,    0,    0,    0,    0,    0,    0,    0,    0,    0,    0,    0,    0,    0,    0,    0,    0,    0,    0,    0,    0,    0,    0,    0,    0,    0,    0,    0,    0,    0,    0,    0,    0,    0,    0,    0,    0,    0,    0,    0,    0,    0,    0,    0,    0,    0,    0,    0,    0,    0,    0,    0,    0,    0,    0,    0,    0,    0,    0,    0,    0,    0,    0,    0,    0,    0,    0,    0,    0,    0,    0,    0,    0,    0,    0,    0,    0,    0,    0,    0,    0,    0,    0,    0,    0,    0,    0,    0,    0,    0,    0,    0,    0,    0,    0,    0,    0,    0,    0,    0,    0,    0,    0,    0,    0,    0,    0,    0,    0,    0,    0,    0,    0,    0,    0,    0,    0,    0,    0,    0,    0,    0,    0,    0,    0,    0,    0,    0,    0,    0,    0,    0,    0,    0,    0,    0,    0,    0,    0,    0,    0,    0,    0,    0,    0,    0,    0,    0,    0,    0,    0,    0,    0,    0,    0,    0,    0,    0,    0,    0,    0,    0,    0,    0,    0,    0,    0,    0,    0,    0,    0], [1, 1, 1, 1, 1, 1, 1, 1, 1, 1, 2, 1, 1, 1, 1, 1, 1, 1, 2, 1, 2, 1, 1, 1, 1, 1, 2, 2, 2, 2, 2, 2, 2, 2, 2, 2, 1, 2, 2, 2, 2, 1, 2, 2, 2, 2, 2, 2, 2, 2, 2, 2, 2, 2, 2, 2, 2, 2, 2, 2, 2, 2, 2, 2, 2, 2, 2, 2, 2, 1, 1, 1, 1, 1, 1, 2, 1, 1, 1, 1, 1, 1, 1, 1, 1, 0, 0, 0, 0, 0, 0, 0, 0, 0, 0, 0, 0, 0, 0, 0, 0, 0, 0, 0, 0, 0, 0, 0, 0, 0, 0, 0, 0, 0, 0, 0, 0, 0, 0, 0, 0, 0, 0, 0, 0, 0, 0, 0, 0, 0, 0, 0, 0, 0, 0, 0, 0, 0, 0, 0, 0, 0, 0, 0, 0, 0, 0, 0, 0, 0, 0, 0, 0, 0, 0, 0, 0, 0, 0, 0, 0, 0, 0, 0, 0, 0, 0, 0, 0, 0, 0, 0, 0, 0, 0, 0, 0, 0, 0, 0, 0, 0, 0, 0, 0, 0, 0, 0, 0, 0, 0, 0, 0, 0, 0, 0, 0, 0, 0, 0, 0, 0, 0, 0, 0, 0, 0, 0, 0, 0, 0, 0, 0, 0, 0, 0, 0, 0, 0, 0, 0, 0, 0, 0, 0, 0, 0, 0, 0, 0, 0, 0, 0, 0, 0, 0, 0, 0, 0, 0, 0, 0, 0, 0, 0, 0, 0, 0, 0, 0, 0, 0, 0, 0, 0, 0, 0, 0, 0, 0, 0, 0, 0, 0, 0, 0, 0, 0, 0, 0, 0, 0, 0, 0, 0, 0, 0, 0, 0, 0, 0, 0, 0, 0, 0, 0, 0, 0, 0, 0, 0, 0, 0, 0, 0, 0, 0, 0, 0, 0]),\n",
       "       ([ 1.21097118e-02, -1.44930482e-02,  9.37281176e-03, ...,  4.78867888e-02,  5.35942055e-02,  5.28310426e-02], 12.5, [ 125,  126,  135,  148,  152,  203,  220,  222,  327,  338,  350,  410,  475,  913,  935, 1051, 1055, 1068, 1196, 1256, 1345, 1420, 1503, 1523,    0,    0,    0,    0,    0,    0,    0,    0,    0,    0,    0,    0,    0,    0,    0,    0,    0,    0,    0,    0,    0,    0,    0,    0,    0,    0,    0,    0,    0,    0,    0,    0,    0,    0,    0,    0,    0,    0,    0,    0,    0,    0,    0,    0,    0,    0,    0,    0,    0,    0,    0,    0,    0,    0,    0,    0,    0,    0,    0,    0,    0,    0,    0,    0,    0,    0,    0,    0,    0,    0,    0,    0,    0,    0,    0,    0,    0,    0,    0,    0,    0,    0,    0,    0,    0,    0,    0,    0,    0,    0,    0,    0,    0,    0,    0,    0,    0,    0,    0,    0,    0,    0,    0,    0,    0,    0,    0,    0,    0,    0,    0,    0,    0,    0,    0,    0,    0,    0,    0,    0,    0,    0,    0,    0,    0,    0,    0,    0,    0,    0,    0,    0,    0,    0,    0,    0,    0,    0,    0,    0,    0,    0,    0,    0,    0,    0,    0,    0,    0,    0,    0,    0,    0,    0,    0,    0,    0,    0,    0,    0,    0,    0,    0,    0,    0,    0,    0,    0,    0,    0,    0,    0,    0,    0,    0,    0,    0,    0,    0,    0,    0,    0,    0,    0,    0,    0,    0,    0,    0,    0,    0,    0,    0,    0,    0,    0,    0,    0,    0,    0,    0,    0,    0,    0,    0,    0,    0,    0,    0,    0,    0,    0,    0,    0,    0,    0,    0,    0,    0,    0,    0,    0,    0,    0,    0,    0,    0,    0,    0,    0,    0,    0,    0,    0,    0,    0,    0,    0,    0,    0,    0,    0,    0,    0,    0,    0,    0,    0,    0,    0,    0,    0,    0,    0,    0,    0,    0,    0,    0,    0,    0,    0,    0,    0,    0,    0,    0,    0,    0,    0,    0,    0,    0,    0,    0,    0], [1, 1, 1, 1, 1, 1, 1, 1, 1, 1, 1, 1, 1, 1, 1, 1, 1, 1, 1, 1, 1, 2, 1, 1, 0, 0, 0, 0, 0, 0, 0, 0, 0, 0, 0, 0, 0, 0, 0, 0, 0, 0, 0, 0, 0, 0, 0, 0, 0, 0, 0, 0, 0, 0, 0, 0, 0, 0, 0, 0, 0, 0, 0, 0, 0, 0, 0, 0, 0, 0, 0, 0, 0, 0, 0, 0, 0, 0, 0, 0, 0, 0, 0, 0, 0, 0, 0, 0, 0, 0, 0, 0, 0, 0, 0, 0, 0, 0, 0, 0, 0, 0, 0, 0, 0, 0, 0, 0, 0, 0, 0, 0, 0, 0, 0, 0, 0, 0, 0, 0, 0, 0, 0, 0, 0, 0, 0, 0, 0, 0, 0, 0, 0, 0, 0, 0, 0, 0, 0, 0, 0, 0, 0, 0, 0, 0, 0, 0, 0, 0, 0, 0, 0, 0, 0, 0, 0, 0, 0, 0, 0, 0, 0, 0, 0, 0, 0, 0, 0, 0, 0, 0, 0, 0, 0, 0, 0, 0, 0, 0, 0, 0, 0, 0, 0, 0, 0, 0, 0, 0, 0, 0, 0, 0, 0, 0, 0, 0, 0, 0, 0, 0, 0, 0, 0, 0, 0, 0, 0, 0, 0, 0, 0, 0, 0, 0, 0, 0, 0, 0, 0, 0, 0, 0, 0, 0, 0, 0, 0, 0, 0, 0, 0, 0, 0, 0, 0, 0, 0, 0, 0, 0, 0, 0, 0, 0, 0, 0, 0, 0, 0, 0, 0, 0, 0, 0, 0, 0, 0, 0, 0, 0, 0, 0, 0, 0, 0, 0, 0, 0, 0, 0, 0, 0, 0, 0, 0, 0, 0, 0, 0, 0, 0, 0, 0, 0, 0, 0, 0, 0, 0, 0, 0, 0, 0, 0, 0, 0, 0, 0]),\n",
       "       ([-8.74349661e-03, -2.15379447e-02, -3.08639277e-02, ...,  3.73963974e-02,  5.78998961e-02,  1.19294971e-02], 12.5, [ 126,  132,  136,  148,  153,  192,  203,  214,  415,  542,  569,  662,  835,  882,  901, 1308, 1322, 1418, 1469, 1478, 1511, 1512, 2145, 2399,    0,    0,    0,    0,    0,    0,    0,    0,    0,    0,    0,    0,    0,    0,    0,    0,    0,    0,    0,    0,    0,    0,    0,    0,    0,    0,    0,    0,    0,    0,    0,    0,    0,    0,    0,    0,    0,    0,    0,    0,    0,    0,    0,    0,    0,    0,    0,    0,    0,    0,    0,    0,    0,    0,    0,    0,    0,    0,    0,    0,    0,    0,    0,    0,    0,    0,    0,    0,    0,    0,    0,    0,    0,    0,    0,    0,    0,    0,    0,    0,    0,    0,    0,    0,    0,    0,    0,    0,    0,    0,    0,    0,    0,    0,    0,    0,    0,    0,    0,    0,    0,    0,    0,    0,    0,    0,    0,    0,    0,    0,    0,    0,    0,    0,    0,    0,    0,    0,    0,    0,    0,    0,    0,    0,    0,    0,    0,    0,    0,    0,    0,    0,    0,    0,    0,    0,    0,    0,    0,    0,    0,    0,    0,    0,    0,    0,    0,    0,    0,    0,    0,    0,    0,    0,    0,    0,    0,    0,    0,    0,    0,    0,    0,    0,    0,    0,    0,    0,    0,    0,    0,    0,    0,    0,    0,    0,    0,    0,    0,    0,    0,    0,    0,    0,    0,    0,    0,    0,    0,    0,    0,    0,    0,    0,    0,    0,    0,    0,    0,    0,    0,    0,    0,    0,    0,    0,    0,    0,    0,    0,    0,    0,    0,    0,    0,    0,    0,    0,    0,    0,    0,    0,    0,    0,    0,    0,    0,    0,    0,    0,    0,    0,    0,    0,    0,    0,    0,    0,    0,    0,    0,    0,    0,    0,    0,    0,    0,    0,    0,    0,    0,    0,    0,    0,    0,    0,    0,    0,    0,    0,    0,    0,    0,    0,    0,    0,    0,    0,    0,    0,    0,    0,    0,    0,    0,    0], [1, 1, 1, 1, 1, 1, 1, 1, 1, 1, 1, 1, 1, 1, 1, 1, 1, 1, 1, 2, 2, 2, 1, 1, 0, 0, 0, 0, 0, 0, 0, 0, 0, 0, 0, 0, 0, 0, 0, 0, 0, 0, 0, 0, 0, 0, 0, 0, 0, 0, 0, 0, 0, 0, 0, 0, 0, 0, 0, 0, 0, 0, 0, 0, 0, 0, 0, 0, 0, 0, 0, 0, 0, 0, 0, 0, 0, 0, 0, 0, 0, 0, 0, 0, 0, 0, 0, 0, 0, 0, 0, 0, 0, 0, 0, 0, 0, 0, 0, 0, 0, 0, 0, 0, 0, 0, 0, 0, 0, 0, 0, 0, 0, 0, 0, 0, 0, 0, 0, 0, 0, 0, 0, 0, 0, 0, 0, 0, 0, 0, 0, 0, 0, 0, 0, 0, 0, 0, 0, 0, 0, 0, 0, 0, 0, 0, 0, 0, 0, 0, 0, 0, 0, 0, 0, 0, 0, 0, 0, 0, 0, 0, 0, 0, 0, 0, 0, 0, 0, 0, 0, 0, 0, 0, 0, 0, 0, 0, 0, 0, 0, 0, 0, 0, 0, 0, 0, 0, 0, 0, 0, 0, 0, 0, 0, 0, 0, 0, 0, 0, 0, 0, 0, 0, 0, 0, 0, 0, 0, 0, 0, 0, 0, 0, 0, 0, 0, 0, 0, 0, 0, 0, 0, 0, 0, 0, 0, 0, 0, 0, 0, 0, 0, 0, 0, 0, 0, 0, 0, 0, 0, 0, 0, 0, 0, 0, 0, 0, 0, 0, 0, 0, 0, 0, 0, 0, 0, 0, 0, 0, 0, 0, 0, 0, 0, 0, 0, 0, 0, 0, 0, 0, 0, 0, 0, 0, 0, 0, 0, 0, 0, 0, 0, 0, 0, 0, 0, 0, 0, 0, 0, 0, 0, 0, 0, 0, 0, 0, 0, 0]),\n",
       "       ...,\n",
       "       ([ 2.94155050e-02,  1.78986564e-02,  3.31732957e-03, ...,  4.27089818e-02,  5.70955575e-02,  8.08110461e-03], 17.5, [   1,  129,  130,  137,  138,  173,  183,  211,  212,  271,  277,  345,  356,  468,  628,  800,  820,  856,  858,  872,  953,  971, 1087, 1101, 1154, 1528, 1559, 1636, 1991, 2723,    0,    0,    0,    0,    0,    0,    0,    0,    0,    0,    0,    0,    0,    0,    0,    0,    0,    0,    0,    0,    0,    0,    0,    0,    0,    0,    0,    0,    0,    0,    0,    0,    0,    0,    0,    0,    0,    0,    0,    0,    0,    0,    0,    0,    0,    0,    0,    0,    0,    0,    0,    0,    0,    0,    0,    0,    0,    0,    0,    0,    0,    0,    0,    0,    0,    0,    0,    0,    0,    0,    0,    0,    0,    0,    0,    0,    0,    0,    0,    0,    0,    0,    0,    0,    0,    0,    0,    0,    0,    0,    0,    0,    0,    0,    0,    0,    0,    0,    0,    0,    0,    0,    0,    0,    0,    0,    0,    0,    0,    0,    0,    0,    0,    0,    0,    0,    0,    0,    0,    0,    0,    0,    0,    0,    0,    0,    0,    0,    0,    0,    0,    0,    0,    0,    0,    0,    0,    0,    0,    0,    0,    0,    0,    0,    0,    0,    0,    0,    0,    0,    0,    0,    0,    0,    0,    0,    0,    0,    0,    0,    0,    0,    0,    0,    0,    0,    0,    0,    0,    0,    0,    0,    0,    0,    0,    0,    0,    0,    0,    0,    0,    0,    0,    0,    0,    0,    0,    0,    0,    0,    0,    0,    0,    0,    0,    0,    0,    0,    0,    0,    0,    0,    0,    0,    0,    0,    0,    0,    0,    0,    0,    0,    0,    0,    0,    0,    0,    0,    0,    0,    0,    0,    0,    0,    0,    0,    0,    0,    0,    0,    0,    0,    0,    0,    0,    0,    0,    0,    0,    0,    0,    0,    0,    0,    0,    0,    0,    0,    0,    0,    0,    0,    0,    0,    0,    0,    0,    0,    0,    0,    0,    0,    0,    0,    0,    0,    0,    0,    0,    0], [1, 1, 1, 1, 1, 1, 1, 1, 1, 2, 1, 1, 2, 1, 1, 1, 1, 1, 1, 1, 1, 1, 1, 1, 1, 1, 1, 1, 1, 1, 0, 0, 0, 0, 0, 0, 0, 0, 0, 0, 0, 0, 0, 0, 0, 0, 0, 0, 0, 0, 0, 0, 0, 0, 0, 0, 0, 0, 0, 0, 0, 0, 0, 0, 0, 0, 0, 0, 0, 0, 0, 0, 0, 0, 0, 0, 0, 0, 0, 0, 0, 0, 0, 0, 0, 0, 0, 0, 0, 0, 0, 0, 0, 0, 0, 0, 0, 0, 0, 0, 0, 0, 0, 0, 0, 0, 0, 0, 0, 0, 0, 0, 0, 0, 0, 0, 0, 0, 0, 0, 0, 0, 0, 0, 0, 0, 0, 0, 0, 0, 0, 0, 0, 0, 0, 0, 0, 0, 0, 0, 0, 0, 0, 0, 0, 0, 0, 0, 0, 0, 0, 0, 0, 0, 0, 0, 0, 0, 0, 0, 0, 0, 0, 0, 0, 0, 0, 0, 0, 0, 0, 0, 0, 0, 0, 0, 0, 0, 0, 0, 0, 0, 0, 0, 0, 0, 0, 0, 0, 0, 0, 0, 0, 0, 0, 0, 0, 0, 0, 0, 0, 0, 0, 0, 0, 0, 0, 0, 0, 0, 0, 0, 0, 0, 0, 0, 0, 0, 0, 0, 0, 0, 0, 0, 0, 0, 0, 0, 0, 0, 0, 0, 0, 0, 0, 0, 0, 0, 0, 0, 0, 0, 0, 0, 0, 0, 0, 0, 0, 0, 0, 0, 0, 0, 0, 0, 0, 0, 0, 0, 0, 0, 0, 0, 0, 0, 0, 0, 0, 0, 0, 0, 0, 0, 0, 0, 0, 0, 0, 0, 0, 0, 0, 0, 0, 0, 0, 0, 0, 0, 0, 0, 0, 0, 0, 0, 0, 0, 0, 0]),\n",
       "       ([-8.10604356e-03, -3.06256209e-02, -4.26743150e-04, ...,  2.74187955e-03,  2.97940634e-02,  4.29099984e-02], 17.5, [ 129,  135,  136,  142,  151,  152,  153,  164,  185,  187,  221,  303,  306,  310,  317,  319,  333,  375,  483,  487,  489,  702,  727,  745,  806,  808,  815,  816,  818,  819,  820,  822,  826,  827,  828,  830,  835,  836,  838,  840,  842,  846,  854,  856,  857,  862,  890,  911,  924, 1056, 1422, 2150,    0,    0,    0,    0,    0,    0,    0,    0,    0,    0,    0,    0,    0,    0,    0,    0,    0,    0,    0,    0,    0,    0,    0,    0,    0,    0,    0,    0,    0,    0,    0,    0,    0,    0,    0,    0,    0,    0,    0,    0,    0,    0,    0,    0,    0,    0,    0,    0,    0,    0,    0,    0,    0,    0,    0,    0,    0,    0,    0,    0,    0,    0,    0,    0,    0,    0,    0,    0,    0,    0,    0,    0,    0,    0,    0,    0,    0,    0,    0,    0,    0,    0,    0,    0,    0,    0,    0,    0,    0,    0,    0,    0,    0,    0,    0,    0,    0,    0,    0,    0,    0,    0,    0,    0,    0,    0,    0,    0,    0,    0,    0,    0,    0,    0,    0,    0,    0,    0,    0,    0,    0,    0,    0,    0,    0,    0,    0,    0,    0,    0,    0,    0,    0,    0,    0,    0,    0,    0,    0,    0,    0,    0,    0,    0,    0,    0,    0,    0,    0,    0,    0,    0,    0,    0,    0,    0,    0,    0,    0,    0,    0,    0,    0,    0,    0,    0,    0,    0,    0,    0,    0,    0,    0,    0,    0,    0,    0,    0,    0,    0,    0,    0,    0,    0,    0,    0,    0,    0,    0,    0,    0,    0,    0,    0,    0,    0,    0,    0,    0,    0,    0,    0,    0,    0,    0,    0,    0,    0,    0,    0,    0,    0,    0,    0,    0,    0,    0,    0,    0,    0,    0,    0,    0,    0,    0,    0,    0,    0,    0,    0,    0,    0,    0,    0,    0,    0,    0,    0,    0,    0,    0,    0,    0,    0,    0,    0,    0,    0], [1, 1, 1, 1, 1, 1, 1, 1, 1, 1, 1, 2, 2, 2, 1, 2, 1, 1, 1, 1, 1, 1, 2, 1, 1, 2, 2, 2, 2, 2, 2, 2, 2, 2, 2, 2, 2, 2, 2, 2, 2, 2, 2, 2, 2, 2, 2, 1, 2, 1, 1, 1, 0, 0, 0, 0, 0, 0, 0, 0, 0, 0, 0, 0, 0, 0, 0, 0, 0, 0, 0, 0, 0, 0, 0, 0, 0, 0, 0, 0, 0, 0, 0, 0, 0, 0, 0, 0, 0, 0, 0, 0, 0, 0, 0, 0, 0, 0, 0, 0, 0, 0, 0, 0, 0, 0, 0, 0, 0, 0, 0, 0, 0, 0, 0, 0, 0, 0, 0, 0, 0, 0, 0, 0, 0, 0, 0, 0, 0, 0, 0, 0, 0, 0, 0, 0, 0, 0, 0, 0, 0, 0, 0, 0, 0, 0, 0, 0, 0, 0, 0, 0, 0, 0, 0, 0, 0, 0, 0, 0, 0, 0, 0, 0, 0, 0, 0, 0, 0, 0, 0, 0, 0, 0, 0, 0, 0, 0, 0, 0, 0, 0, 0, 0, 0, 0, 0, 0, 0, 0, 0, 0, 0, 0, 0, 0, 0, 0, 0, 0, 0, 0, 0, 0, 0, 0, 0, 0, 0, 0, 0, 0, 0, 0, 0, 0, 0, 0, 0, 0, 0, 0, 0, 0, 0, 0, 0, 0, 0, 0, 0, 0, 0, 0, 0, 0, 0, 0, 0, 0, 0, 0, 0, 0, 0, 0, 0, 0, 0, 0, 0, 0, 0, 0, 0, 0, 0, 0, 0, 0, 0, 0, 0, 0, 0, 0, 0, 0, 0, 0, 0, 0, 0, 0, 0, 0, 0, 0, 0, 0, 0, 0, 0, 0, 0, 0, 0, 0, 0, 0, 0, 0, 0, 0, 0, 0, 0, 0, 0, 0]),\n",
       "       ([ 2.30745059e-02,  3.50341909e-02,  3.72439832e-03, ..., -1.83118368e-03, -4.41136137e-02, -8.24059453e-03], 17.5, [ 129,  139,  148,  150,  198,  222,  246,  249,  297,  310,  312,  332,  502,  503,  613,  622,  676,  721,  738,  766, 1024, 1288, 1373, 2030, 2118,    0,    0,    0,    0,    0,    0,    0,    0,    0,    0,    0,    0,    0,    0,    0,    0,    0,    0,    0,    0,    0,    0,    0,    0,    0,    0,    0,    0,    0,    0,    0,    0,    0,    0,    0,    0,    0,    0,    0,    0,    0,    0,    0,    0,    0,    0,    0,    0,    0,    0,    0,    0,    0,    0,    0,    0,    0,    0,    0,    0,    0,    0,    0,    0,    0,    0,    0,    0,    0,    0,    0,    0,    0,    0,    0,    0,    0,    0,    0,    0,    0,    0,    0,    0,    0,    0,    0,    0,    0,    0,    0,    0,    0,    0,    0,    0,    0,    0,    0,    0,    0,    0,    0,    0,    0,    0,    0,    0,    0,    0,    0,    0,    0,    0,    0,    0,    0,    0,    0,    0,    0,    0,    0,    0,    0,    0,    0,    0,    0,    0,    0,    0,    0,    0,    0,    0,    0,    0,    0,    0,    0,    0,    0,    0,    0,    0,    0,    0,    0,    0,    0,    0,    0,    0,    0,    0,    0,    0,    0,    0,    0,    0,    0,    0,    0,    0,    0,    0,    0,    0,    0,    0,    0,    0,    0,    0,    0,    0,    0,    0,    0,    0,    0,    0,    0,    0,    0,    0,    0,    0,    0,    0,    0,    0,    0,    0,    0,    0,    0,    0,    0,    0,    0,    0,    0,    0,    0,    0,    0,    0,    0,    0,    0,    0,    0,    0,    0,    0,    0,    0,    0,    0,    0,    0,    0,    0,    0,    0,    0,    0,    0,    0,    0,    0,    0,    0,    0,    0,    0,    0,    0,    0,    0,    0,    0,    0,    0,    0,    0,    0,    0,    0,    0,    0,    0,    0,    0,    0,    0,    0,    0,    0,    0,    0,    0,    0,    0,    0,    0,    0,    0,    0,    0,    0,    0], [1, 1, 1, 1, 1, 1, 1, 1, 1, 1, 2, 1, 1, 1, 1, 1, 1, 1, 1, 1, 1, 1, 1, 1, 1, 0, 0, 0, 0, 0, 0, 0, 0, 0, 0, 0, 0, 0, 0, 0, 0, 0, 0, 0, 0, 0, 0, 0, 0, 0, 0, 0, 0, 0, 0, 0, 0, 0, 0, 0, 0, 0, 0, 0, 0, 0, 0, 0, 0, 0, 0, 0, 0, 0, 0, 0, 0, 0, 0, 0, 0, 0, 0, 0, 0, 0, 0, 0, 0, 0, 0, 0, 0, 0, 0, 0, 0, 0, 0, 0, 0, 0, 0, 0, 0, 0, 0, 0, 0, 0, 0, 0, 0, 0, 0, 0, 0, 0, 0, 0, 0, 0, 0, 0, 0, 0, 0, 0, 0, 0, 0, 0, 0, 0, 0, 0, 0, 0, 0, 0, 0, 0, 0, 0, 0, 0, 0, 0, 0, 0, 0, 0, 0, 0, 0, 0, 0, 0, 0, 0, 0, 0, 0, 0, 0, 0, 0, 0, 0, 0, 0, 0, 0, 0, 0, 0, 0, 0, 0, 0, 0, 0, 0, 0, 0, 0, 0, 0, 0, 0, 0, 0, 0, 0, 0, 0, 0, 0, 0, 0, 0, 0, 0, 0, 0, 0, 0, 0, 0, 0, 0, 0, 0, 0, 0, 0, 0, 0, 0, 0, 0, 0, 0, 0, 0, 0, 0, 0, 0, 0, 0, 0, 0, 0, 0, 0, 0, 0, 0, 0, 0, 0, 0, 0, 0, 0, 0, 0, 0, 0, 0, 0, 0, 0, 0, 0, 0, 0, 0, 0, 0, 0, 0, 0, 0, 0, 0, 0, 0, 0, 0, 0, 0, 0, 0, 0, 0, 0, 0, 0, 0, 0, 0, 0, 0, 0, 0, 0, 0, 0, 0, 0, 0, 0, 0, 0, 0, 0, 0, 0])],\n",
       "      dtype=[('wf_i', '<f4', (3000,)), ('mom', '<f4'), ('tag_times', '<i4', (300,)), ('tag_values', '<i4', (300,))])"
      ]
     },
     "execution_count": 7,
     "metadata": {},
     "output_type": "execute_result"
    }
   ],
   "source": [
    "process_in_batches(\"./kaon_urls.txt\", \"kaon\", batch_size=10, max_tags=300)"
   ]
  },
  {
   "cell_type": "code",
   "execution_count": 8,
   "id": "1b18d4f1",
   "metadata": {},
   "outputs": [
    {
     "name": "stdout",
     "output_type": "stream",
     "text": [
      "Processing batch 1...\n"
     ]
    },
    {
     "name": "stderr",
     "output_type": "stream",
     "text": [
      "signal_pi_7.5_44.root: 100%|██████████| 403M/403M [00:32<00:00, 12.3MiB/s] \n",
      "signal_pi_12.5_51.root: 100%|██████████| 404M/404M [00:33<00:00, 12.2MiB/s] \n",
      "signal_pi_5.0_1.root: 100%|██████████| 402M/402M [00:33<00:00, 12.1MiB/s] \n",
      "signal_pi_12.5_59.root: 100%|██████████| 403M/403M [00:33<00:00, 12.1MiB/s] \n",
      "signal_pi_5.0_6.root: 100%|██████████| 402M/402M [00:33<00:00, 12.2MiB/s] \n",
      "signal_pi_5.0_3.root: 100%|██████████| 402M/402M [00:33<00:00, 12.1MiB/s] \n",
      "signal_pi_17.5_69.root: 100%|██████████| 404M/404M [00:32<00:00, 12.3MiB/s] \n",
      "signal_pi_7.5_47.root: 100%|██████████| 403M/403M [00:32<00:00, 12.4MiB/s] \n",
      "signal_pi_17.5_65.root: 100%|██████████| 404M/404M [00:32<00:00, 12.4MiB/s] \n",
      "signal_pi_5.0_9.root: 100%|██████████| 402M/402M [00:32<00:00, 12.3MiB/s] \n"
     ]
    },
    {
     "name": "stdout",
     "output_type": "stream",
     "text": [
      "Processing: pion/signal_pi_7.5_44.root\n",
      "Processing: pion/signal_pi_12.5_51.root\n",
      "Processing: pion/signal_pi_5.0_1.root\n",
      "Processing: pion/signal_pi_12.5_59.root\n",
      "Processing: pion/signal_pi_5.0_6.root\n",
      "Processing: pion/signal_pi_5.0_3.root\n",
      "Processing: pion/signal_pi_17.5_69.root\n",
      "Processing: pion/signal_pi_7.5_47.root\n",
      "Processing: pion/signal_pi_17.5_65.root\n",
      "Processing: pion/signal_pi_5.0_9.root\n",
      "Saved combined data to pion/batch_0.npz\n",
      "Saved pion/batch_0.npz and deleted temporary root files.\n",
      "\n",
      "Processing batch 2...\n"
     ]
    },
    {
     "name": "stderr",
     "output_type": "stream",
     "text": [
      "signal_pi_10.0_12.root: 100%|██████████| 403M/403M [00:32<00:00, 12.5MiB/s] \n",
      "signal_pi_12.5_55.root: 100%|██████████| 403M/403M [00:33<00:00, 12.0MiB/s] \n",
      "signal_pi_10.0_11.root: 100%|██████████| 403M/403M [00:32<00:00, 12.4MiB/s] \n",
      "signal_pi_17.5_62.root: 100%|██████████| 404M/404M [00:33<00:00, 12.2MiB/s] \n",
      "signal_pi_10.0_17.root: 100%|██████████| 403M/403M [00:32<00:00, 12.3MiB/s] \n",
      "signal_pi_10.0_19.root: 100%|██████████| 403M/403M [00:31<00:00, 12.7MiB/s] \n",
      "signal_pi_12.5_52.root: 100%|██████████| 403M/403M [00:33<00:00, 12.2MiB/s] \n",
      "signal_pi_10.0_15.root: 100%|██████████| 403M/403M [00:32<00:00, 12.3MiB/s] \n",
      "signal_pi_10.0_16.root: 100%|██████████| 403M/403M [00:31<00:00, 12.8MiB/s] \n",
      "signal_pi_20.0_39.root: 100%|██████████| 404M/404M [00:31<00:00, 12.8MiB/s] \n"
     ]
    },
    {
     "name": "stdout",
     "output_type": "stream",
     "text": [
      "Processing: pion/signal_pi_10.0_12.root\n",
      "Processing: pion/signal_pi_12.5_55.root\n",
      "Processing: pion/signal_pi_10.0_11.root\n",
      "Processing: pion/signal_pi_17.5_62.root\n",
      "Processing: pion/signal_pi_10.0_17.root\n",
      "Processing: pion/signal_pi_10.0_19.root\n",
      "Processing: pion/signal_pi_12.5_52.root\n",
      "Processing: pion/signal_pi_10.0_15.root\n",
      "Processing: pion/signal_pi_10.0_16.root\n",
      "Processing: pion/signal_pi_20.0_39.root\n",
      "Saved combined data to pion/batch_1.npz\n",
      "Saved pion/batch_1.npz and deleted temporary root files.\n",
      "\n",
      "Processing batch 3...\n"
     ]
    },
    {
     "name": "stderr",
     "output_type": "stream",
     "text": [
      "signal_pi_12.5_58.root: 100%|██████████| 403M/403M [00:32<00:00, 12.4MiB/s] \n",
      "signal_pi_20.0_35.root: 100%|██████████| 404M/404M [00:31<00:00, 12.7MiB/s] \n",
      "signal_pi_12.5_50.root: 100%|██████████| 404M/404M [00:32<00:00, 12.4MiB/s] \n",
      "signal_pi_20.0_30.root: 100%|██████████| 404M/404M [00:33<00:00, 12.0MiB/s] \n",
      "signal_pi_10.0_10.root: 100%|██████████| 403M/403M [00:32<00:00, 12.2MiB/s] \n",
      "signal_pi_20.0_31.root: 100%|██████████| 404M/404M [00:32<00:00, 12.6MiB/s] \n",
      "signal_pi_5.0_7.root: 100%|██████████| 402M/402M [00:32<00:00, 12.4MiB/s] \n",
      "signal_pi_7.5_43.root: 100%|██████████| 403M/403M [00:32<00:00, 12.4MiB/s] \n",
      "signal_pi_15.0_25.root: 100%|██████████| 404M/404M [00:33<00:00, 12.2MiB/s] \n",
      "signal_pi_17.5_63.root: 100%|██████████| 404M/404M [00:33<00:00, 12.1MiB/s] \n"
     ]
    },
    {
     "name": "stdout",
     "output_type": "stream",
     "text": [
      "Processing: pion/signal_pi_12.5_58.root\n",
      "Processing: pion/signal_pi_20.0_35.root\n",
      "Processing: pion/signal_pi_12.5_50.root\n",
      "Processing: pion/signal_pi_20.0_30.root\n",
      "Processing: pion/signal_pi_10.0_10.root\n",
      "Processing: pion/signal_pi_20.0_31.root\n",
      "Processing: pion/signal_pi_5.0_7.root\n",
      "Processing: pion/signal_pi_7.5_43.root\n",
      "Processing: pion/signal_pi_15.0_25.root\n",
      "Processing: pion/signal_pi_17.5_63.root\n",
      "Saved combined data to pion/batch_2.npz\n",
      "Saved pion/batch_2.npz and deleted temporary root files.\n",
      "\n",
      "Processing batch 4...\n"
     ]
    },
    {
     "name": "stderr",
     "output_type": "stream",
     "text": [
      "signal_pi_15.0_27.root: 100%|██████████| 404M/404M [00:33<00:00, 12.2MiB/s] \n",
      "signal_pi_20.0_37.root: 100%|██████████| 404M/404M [00:34<00:00, 11.7MiB/s] \n",
      "signal_pi_12.5_57.root: 100%|██████████| 403M/403M [00:32<00:00, 12.6MiB/s] \n",
      "signal_pi_10.0_18.root: 100%|██████████| 403M/403M [00:32<00:00, 12.5MiB/s] \n",
      "signal_pi_15.0_28.root: 100%|██████████| 404M/404M [00:32<00:00, 12.3MiB/s] \n",
      "signal_pi_7.5_49.root: 100%|██████████| 403M/403M [00:33<00:00, 12.0MiB/s] \n",
      "signal_pi_5.0_8.root: 100%|██████████| 402M/402M [00:31<00:00, 12.6MiB/s] \n",
      "signal_pi_15.0_22.root: 100%|██████████| 404M/404M [00:32<00:00, 12.3MiB/s] \n",
      "signal_pi_5.0_4.root: 100%|██████████| 402M/402M [00:31<00:00, 12.6MiB/s] \n",
      "signal_pi_5.0_2.root: 100%|██████████| 402M/402M [00:32<00:00, 12.4MiB/s] \n"
     ]
    },
    {
     "name": "stdout",
     "output_type": "stream",
     "text": [
      "Processing: pion/signal_pi_15.0_27.root\n",
      "Processing: pion/signal_pi_20.0_37.root\n",
      "Processing: pion/signal_pi_12.5_57.root\n",
      "Processing: pion/signal_pi_10.0_18.root\n",
      "Processing: pion/signal_pi_15.0_28.root\n",
      "Processing: pion/signal_pi_7.5_49.root\n",
      "Processing: pion/signal_pi_5.0_8.root\n",
      "Processing: pion/signal_pi_15.0_22.root\n",
      "Processing: pion/signal_pi_5.0_4.root\n",
      "Processing: pion/signal_pi_5.0_2.root\n",
      "Saved combined data to pion/batch_3.npz\n",
      "Saved pion/batch_3.npz and deleted temporary root files.\n",
      "\n",
      "Processing batch 5...\n"
     ]
    },
    {
     "name": "stderr",
     "output_type": "stream",
     "text": [
      "signal_pi_7.5_46.root: 100%|██████████| 403M/403M [00:32<00:00, 12.2MiB/s] \n",
      "signal_pi_17.5_61.root: 100%|██████████| 404M/404M [00:32<00:00, 12.4MiB/s] \n",
      "signal_pi_20.0_36.root: 100%|██████████| 404M/404M [00:33<00:00, 12.0MiB/s] \n",
      "signal_pi_20.0_34.root: 100%|██████████| 404M/404M [00:32<00:00, 12.4MiB/s] \n",
      "signal_pi_15.0_29.root: 100%|██████████| 404M/404M [00:33<00:00, 12.2MiB/s] \n",
      "signal_pi_7.5_45.root: 100%|██████████| 403M/403M [00:32<00:00, 12.3MiB/s] \n",
      "signal_pi_12.5_54.root: 100%|██████████| 403M/403M [00:34<00:00, 11.6MiB/s] \n",
      "signal_pi_15.0_23.root: 100%|██████████| 404M/404M [00:33<00:00, 12.1MiB/s] \n",
      "signal_pi_12.5_53.root: 100%|██████████| 403M/403M [00:32<00:00, 12.4MiB/s] \n",
      "signal_pi_15.0_26.root: 100%|██████████| 404M/404M [00:32<00:00, 12.4MiB/s] \n"
     ]
    },
    {
     "name": "stdout",
     "output_type": "stream",
     "text": [
      "Processing: pion/signal_pi_7.5_46.root\n",
      "Processing: pion/signal_pi_17.5_61.root\n",
      "Processing: pion/signal_pi_20.0_36.root\n",
      "Processing: pion/signal_pi_20.0_34.root\n",
      "Processing: pion/signal_pi_15.0_29.root\n",
      "Processing: pion/signal_pi_7.5_45.root\n",
      "Processing: pion/signal_pi_12.5_54.root\n",
      "Processing: pion/signal_pi_15.0_23.root\n",
      "Processing: pion/signal_pi_12.5_53.root\n",
      "Processing: pion/signal_pi_15.0_26.root\n",
      "Saved combined data to pion/batch_4.npz\n",
      "Saved pion/batch_4.npz and deleted temporary root files.\n",
      "\n",
      "Processing batch 6...\n"
     ]
    },
    {
     "name": "stderr",
     "output_type": "stream",
     "text": [
      "signal_pi_7.5_41.root: 100%|██████████| 403M/403M [00:31<00:00, 12.6MiB/s] \n",
      "signal_pi_7.5_42.root: 100%|██████████| 403M/403M [00:31<00:00, 12.7MiB/s] \n",
      "signal_pi_15.0_20.root: 100%|██████████| 404M/404M [00:33<00:00, 11.9MiB/s] \n",
      "signal_pi_17.5_64.root: 100%|██████████| 404M/404M [00:32<00:00, 12.2MiB/s] \n",
      "signal_pi_10.0_13.root: 100%|██████████| 403M/403M [00:32<00:00, 12.5MiB/s] \n",
      "signal_pi_10.0_14.root: 100%|██████████| 403M/403M [00:32<00:00, 12.5MiB/s] \n",
      "signal_pi_20.0_38.root: 100%|██████████| 404M/404M [00:32<00:00, 12.6MiB/s] \n",
      "signal_pi_20.0_33.root: 100%|██████████| 404M/404M [00:32<00:00, 12.4MiB/s] \n",
      "signal_pi_17.5_60.root: 100%|██████████| 404M/404M [00:32<00:00, 12.5MiB/s] \n",
      "signal_pi_12.5_56.root: 100%|██████████| 404M/404M [00:31<00:00, 12.6MiB/s] \n"
     ]
    },
    {
     "name": "stdout",
     "output_type": "stream",
     "text": [
      "Processing: pion/signal_pi_7.5_41.root\n",
      "Processing: pion/signal_pi_7.5_42.root\n",
      "Processing: pion/signal_pi_15.0_20.root\n",
      "Processing: pion/signal_pi_17.5_64.root\n",
      "Processing: pion/signal_pi_10.0_13.root\n",
      "Processing: pion/signal_pi_10.0_14.root\n",
      "Processing: pion/signal_pi_20.0_38.root\n",
      "Processing: pion/signal_pi_20.0_33.root\n",
      "Processing: pion/signal_pi_17.5_60.root\n",
      "Processing: pion/signal_pi_12.5_56.root\n",
      "Saved combined data to pion/batch_5.npz\n",
      "Saved pion/batch_5.npz and deleted temporary root files.\n",
      "\n",
      "Processing batch 7...\n"
     ]
    },
    {
     "name": "stderr",
     "output_type": "stream",
     "text": [
      "signal_pi_17.5_66.root: 100%|██████████| 404M/404M [00:34<00:00, 11.6MiB/s] \n",
      "signal_pi_17.5_68.root: 100%|██████████| 404M/404M [00:33<00:00, 11.9MiB/s] \n",
      "signal_pi_15.0_21.root: 100%|██████████| 404M/404M [00:33<00:00, 12.1MiB/s] \n",
      "signal_pi_7.5_48.root: 100%|██████████| 403M/403M [00:32<00:00, 12.3MiB/s] \n",
      "signal_pi_15.0_24.root: 100%|██████████| 404M/404M [00:34<00:00, 11.8MiB/s] \n",
      "signal_pi_20.0_32.root: 100%|██████████| 404M/404M [00:32<00:00, 12.4MiB/s] \n",
      "signal_pi_5.0_0.root: 100%|██████████| 402M/402M [00:33<00:00, 11.9MiB/s] \n",
      "signal_pi_7.5_40.root: 100%|██████████| 403M/403M [00:32<00:00, 12.3MiB/s] \n",
      "signal_pi_17.5_67.root: 100%|██████████| 404M/404M [00:33<00:00, 12.1MiB/s] \n",
      "signal_pi_5.0_5.root: 100%|██████████| 402M/402M [00:35<00:00, 11.3MiB/s] \n"
     ]
    },
    {
     "name": "stdout",
     "output_type": "stream",
     "text": [
      "Processing: pion/signal_pi_17.5_66.root\n",
      "Processing: pion/signal_pi_17.5_68.root\n",
      "Processing: pion/signal_pi_15.0_21.root\n",
      "Processing: pion/signal_pi_7.5_48.root\n",
      "Processing: pion/signal_pi_15.0_24.root\n",
      "Processing: pion/signal_pi_20.0_32.root\n",
      "Processing: pion/signal_pi_5.0_0.root\n",
      "Processing: pion/signal_pi_7.5_40.root\n",
      "Processing: pion/signal_pi_17.5_67.root\n",
      "Processing: pion/signal_pi_5.0_5.root\n",
      "Saved combined data to pion/batch_6.npz\n",
      "Saved pion/batch_6.npz and deleted temporary root files.\n",
      "\n"
     ]
    },
    {
     "data": {
      "text/plain": [
       "array([([-9.73399263e-03, -2.34573931e-02, -1.81217901e-02, ...,  8.82396754e-03,  1.04976371e-02,  2.26219390e-02], 17.5, [ 126,  132,  148,  169,  197,  203,  259,  336,  440,  572,  603,  659,  685,  711,  875,  902,  939,  991, 1041, 1143, 1186, 1258, 1296, 1335, 1379, 1388, 1418, 1481, 1492, 1674, 2600,    0,    0,    0,    0,    0,    0,    0,    0,    0,    0,    0,    0,    0,    0,    0,    0,    0,    0,    0,    0,    0,    0,    0,    0,    0,    0,    0,    0,    0,    0,    0,    0,    0,    0,    0,    0,    0,    0,    0,    0,    0,    0,    0,    0,    0,    0,    0,    0,    0,    0,    0,    0,    0,    0,    0,    0,    0,    0,    0,    0,    0,    0,    0,    0,    0,    0,    0,    0,    0,    0,    0,    0,    0,    0,    0,    0,    0,    0,    0,    0,    0,    0,    0,    0,    0,    0,    0,    0,    0,    0,    0,    0,    0,    0,    0,    0,    0,    0,    0,    0,    0,    0,    0,    0,    0,    0,    0,    0,    0,    0,    0,    0,    0,    0,    0,    0,    0,    0,    0,    0,    0,    0,    0,    0,    0,    0,    0,    0,    0,    0,    0,    0,    0,    0,    0,    0,    0,    0,    0,    0,    0,    0,    0,    0,    0,    0,    0,    0,    0,    0,    0,    0,    0,    0,    0,    0,    0,    0,    0,    0,    0,    0,    0,    0,    0,    0,    0,    0,    0,    0,    0,    0,    0,    0,    0,    0,    0,    0,    0,    0,    0,    0,    0,    0,    0,    0,    0,    0,    0,    0,    0,    0,    0,    0,    0,    0,    0,    0,    0,    0,    0,    0,    0,    0,    0,    0,    0,    0,    0,    0,    0,    0,    0,    0,    0,    0,    0,    0,    0,    0,    0,    0,    0,    0,    0,    0,    0,    0,    0,    0,    0,    0,    0,    0,    0,    0,    0,    0,    0,    0,    0,    0,    0,    0,    0,    0,    0,    0,    0,    0,    0,    0,    0,    0,    0,    0,    0,    0,    0,    0,    0,    0,    0,    0,    0,    0,    0,    0,    0], [1, 1, 1, 1, 1, 1, 1, 1, 1, 1, 1, 1, 1, 1, 1, 1, 1, 1, 1, 1, 1, 1, 1, 1, 1, 1, 1, 1, 2, 1, 1, 0, 0, 0, 0, 0, 0, 0, 0, 0, 0, 0, 0, 0, 0, 0, 0, 0, 0, 0, 0, 0, 0, 0, 0, 0, 0, 0, 0, 0, 0, 0, 0, 0, 0, 0, 0, 0, 0, 0, 0, 0, 0, 0, 0, 0, 0, 0, 0, 0, 0, 0, 0, 0, 0, 0, 0, 0, 0, 0, 0, 0, 0, 0, 0, 0, 0, 0, 0, 0, 0, 0, 0, 0, 0, 0, 0, 0, 0, 0, 0, 0, 0, 0, 0, 0, 0, 0, 0, 0, 0, 0, 0, 0, 0, 0, 0, 0, 0, 0, 0, 0, 0, 0, 0, 0, 0, 0, 0, 0, 0, 0, 0, 0, 0, 0, 0, 0, 0, 0, 0, 0, 0, 0, 0, 0, 0, 0, 0, 0, 0, 0, 0, 0, 0, 0, 0, 0, 0, 0, 0, 0, 0, 0, 0, 0, 0, 0, 0, 0, 0, 0, 0, 0, 0, 0, 0, 0, 0, 0, 0, 0, 0, 0, 0, 0, 0, 0, 0, 0, 0, 0, 0, 0, 0, 0, 0, 0, 0, 0, 0, 0, 0, 0, 0, 0, 0, 0, 0, 0, 0, 0, 0, 0, 0, 0, 0, 0, 0, 0, 0, 0, 0, 0, 0, 0, 0, 0, 0, 0, 0, 0, 0, 0, 0, 0, 0, 0, 0, 0, 0, 0, 0, 0, 0, 0, 0, 0, 0, 0, 0, 0, 0, 0, 0, 0, 0, 0, 0, 0, 0, 0, 0, 0, 0, 0, 0, 0, 0, 0, 0, 0, 0, 0, 0, 0, 0, 0, 0, 0, 0, 0, 0, 0, 0, 0, 0, 0, 0, 0]),\n",
       "       ([ 2.79159262e-03,  7.32955430e-03,  6.40985416e-03, ...,  1.73577536e-02,  4.34291400e-02,  2.28071120e-03], 17.5, [   1,  138,  139,  140,  145,  147,  158,  208,  281,  282,  384,  386,  443,  471,  478,  484,  486,  528,  584,  586,  595,  664,  676,  677,  775,  812,  850, 1015, 1140, 1148, 1391, 1430, 1437, 1477, 1487, 1674, 2083, 2226,    0,    0,    0,    0,    0,    0,    0,    0,    0,    0,    0,    0,    0,    0,    0,    0,    0,    0,    0,    0,    0,    0,    0,    0,    0,    0,    0,    0,    0,    0,    0,    0,    0,    0,    0,    0,    0,    0,    0,    0,    0,    0,    0,    0,    0,    0,    0,    0,    0,    0,    0,    0,    0,    0,    0,    0,    0,    0,    0,    0,    0,    0,    0,    0,    0,    0,    0,    0,    0,    0,    0,    0,    0,    0,    0,    0,    0,    0,    0,    0,    0,    0,    0,    0,    0,    0,    0,    0,    0,    0,    0,    0,    0,    0,    0,    0,    0,    0,    0,    0,    0,    0,    0,    0,    0,    0,    0,    0,    0,    0,    0,    0,    0,    0,    0,    0,    0,    0,    0,    0,    0,    0,    0,    0,    0,    0,    0,    0,    0,    0,    0,    0,    0,    0,    0,    0,    0,    0,    0,    0,    0,    0,    0,    0,    0,    0,    0,    0,    0,    0,    0,    0,    0,    0,    0,    0,    0,    0,    0,    0,    0,    0,    0,    0,    0,    0,    0,    0,    0,    0,    0,    0,    0,    0,    0,    0,    0,    0,    0,    0,    0,    0,    0,    0,    0,    0,    0,    0,    0,    0,    0,    0,    0,    0,    0,    0,    0,    0,    0,    0,    0,    0,    0,    0,    0,    0,    0,    0,    0,    0,    0,    0,    0,    0,    0,    0,    0,    0,    0,    0,    0,    0,    0,    0,    0,    0,    0,    0,    0,    0,    0,    0,    0,    0,    0,    0,    0,    0,    0,    0,    0,    0,    0,    0,    0,    0,    0,    0,    0,    0,    0,    0,    0,    0,    0,    0,    0,    0,    0,    0,    0,    0], [1, 2, 1, 2, 2, 2, 1, 1, 1, 1, 1, 1, 1, 1, 2, 1, 1, 1, 1, 1, 1, 1, 1, 1, 1, 1, 1, 1, 1, 1, 1, 1, 1, 1, 1, 1, 1, 1, 0, 0, 0, 0, 0, 0, 0, 0, 0, 0, 0, 0, 0, 0, 0, 0, 0, 0, 0, 0, 0, 0, 0, 0, 0, 0, 0, 0, 0, 0, 0, 0, 0, 0, 0, 0, 0, 0, 0, 0, 0, 0, 0, 0, 0, 0, 0, 0, 0, 0, 0, 0, 0, 0, 0, 0, 0, 0, 0, 0, 0, 0, 0, 0, 0, 0, 0, 0, 0, 0, 0, 0, 0, 0, 0, 0, 0, 0, 0, 0, 0, 0, 0, 0, 0, 0, 0, 0, 0, 0, 0, 0, 0, 0, 0, 0, 0, 0, 0, 0, 0, 0, 0, 0, 0, 0, 0, 0, 0, 0, 0, 0, 0, 0, 0, 0, 0, 0, 0, 0, 0, 0, 0, 0, 0, 0, 0, 0, 0, 0, 0, 0, 0, 0, 0, 0, 0, 0, 0, 0, 0, 0, 0, 0, 0, 0, 0, 0, 0, 0, 0, 0, 0, 0, 0, 0, 0, 0, 0, 0, 0, 0, 0, 0, 0, 0, 0, 0, 0, 0, 0, 0, 0, 0, 0, 0, 0, 0, 0, 0, 0, 0, 0, 0, 0, 0, 0, 0, 0, 0, 0, 0, 0, 0, 0, 0, 0, 0, 0, 0, 0, 0, 0, 0, 0, 0, 0, 0, 0, 0, 0, 0, 0, 0, 0, 0, 0, 0, 0, 0, 0, 0, 0, 0, 0, 0, 0, 0, 0, 0, 0, 0, 0, 0, 0, 0, 0, 0, 0, 0, 0, 0, 0, 0, 0, 0, 0, 0, 0, 0, 0, 0, 0, 0, 0, 0, 0, 0, 0, 0, 0, 0]),\n",
       "       ([-1.24391657e-03, -5.09368069e-03,  3.72574255e-02, ...,  3.97595577e-02,  7.71087548e-03, -1.76990237e-02], 17.5, [ 121,  129,  130,  132,  133,  136,  137,  138,  142,  149,  171,  194,  211,  231,  243,  248,  265,  296,  304,  423,  491,  513,  566,  630,  684,  691,  767,  772,  802,  920,  966,  989, 1147, 1158, 1167, 1393, 1739, 1788, 2152,    0,    0,    0,    0,    0,    0,    0,    0,    0,    0,    0,    0,    0,    0,    0,    0,    0,    0,    0,    0,    0,    0,    0,    0,    0,    0,    0,    0,    0,    0,    0,    0,    0,    0,    0,    0,    0,    0,    0,    0,    0,    0,    0,    0,    0,    0,    0,    0,    0,    0,    0,    0,    0,    0,    0,    0,    0,    0,    0,    0,    0,    0,    0,    0,    0,    0,    0,    0,    0,    0,    0,    0,    0,    0,    0,    0,    0,    0,    0,    0,    0,    0,    0,    0,    0,    0,    0,    0,    0,    0,    0,    0,    0,    0,    0,    0,    0,    0,    0,    0,    0,    0,    0,    0,    0,    0,    0,    0,    0,    0,    0,    0,    0,    0,    0,    0,    0,    0,    0,    0,    0,    0,    0,    0,    0,    0,    0,    0,    0,    0,    0,    0,    0,    0,    0,    0,    0,    0,    0,    0,    0,    0,    0,    0,    0,    0,    0,    0,    0,    0,    0,    0,    0,    0,    0,    0,    0,    0,    0,    0,    0,    0,    0,    0,    0,    0,    0,    0,    0,    0,    0,    0,    0,    0,    0,    0,    0,    0,    0,    0,    0,    0,    0,    0,    0,    0,    0,    0,    0,    0,    0,    0,    0,    0,    0,    0,    0,    0,    0,    0,    0,    0,    0,    0,    0,    0,    0,    0,    0,    0,    0,    0,    0,    0,    0,    0,    0,    0,    0,    0,    0,    0,    0,    0,    0,    0,    0,    0,    0,    0,    0,    0,    0,    0,    0,    0,    0,    0,    0,    0,    0,    0,    0,    0,    0,    0,    0,    0,    0,    0,    0,    0,    0,    0,    0,    0,    0,    0,    0,    0,    0], [2, 2, 2, 1, 1, 2, 2, 1, 1, 1, 1, 1, 1, 1, 1, 1, 1, 1, 1, 1, 1, 1, 1, 1, 1, 1, 1, 1, 1, 1, 1, 1, 1, 1, 1, 1, 1, 1, 1, 0, 0, 0, 0, 0, 0, 0, 0, 0, 0, 0, 0, 0, 0, 0, 0, 0, 0, 0, 0, 0, 0, 0, 0, 0, 0, 0, 0, 0, 0, 0, 0, 0, 0, 0, 0, 0, 0, 0, 0, 0, 0, 0, 0, 0, 0, 0, 0, 0, 0, 0, 0, 0, 0, 0, 0, 0, 0, 0, 0, 0, 0, 0, 0, 0, 0, 0, 0, 0, 0, 0, 0, 0, 0, 0, 0, 0, 0, 0, 0, 0, 0, 0, 0, 0, 0, 0, 0, 0, 0, 0, 0, 0, 0, 0, 0, 0, 0, 0, 0, 0, 0, 0, 0, 0, 0, 0, 0, 0, 0, 0, 0, 0, 0, 0, 0, 0, 0, 0, 0, 0, 0, 0, 0, 0, 0, 0, 0, 0, 0, 0, 0, 0, 0, 0, 0, 0, 0, 0, 0, 0, 0, 0, 0, 0, 0, 0, 0, 0, 0, 0, 0, 0, 0, 0, 0, 0, 0, 0, 0, 0, 0, 0, 0, 0, 0, 0, 0, 0, 0, 0, 0, 0, 0, 0, 0, 0, 0, 0, 0, 0, 0, 0, 0, 0, 0, 0, 0, 0, 0, 0, 0, 0, 0, 0, 0, 0, 0, 0, 0, 0, 0, 0, 0, 0, 0, 0, 0, 0, 0, 0, 0, 0, 0, 0, 0, 0, 0, 0, 0, 0, 0, 0, 0, 0, 0, 0, 0, 0, 0, 0, 0, 0, 0, 0, 0, 0, 0, 0, 0, 0, 0, 0, 0, 0, 0, 0, 0, 0, 0, 0, 0, 0, 0, 0, 0, 0, 0, 0, 0, 0]),\n",
       "       ...,\n",
       "       ([ 1.89682506e-02, -1.61133502e-02, -1.57960523e-02, ...,  6.25654459e-02,  4.23561484e-02,  3.80884446e-02],  5. , [ 133,  140,  143,  169,  194,  242,  302,  684,  701, 1208, 1348, 1367, 1373, 1390, 1736, 2164, 2177, 2178, 2194, 2200, 2215, 2221, 2222, 2233, 2300, 2312, 2321, 2351,    0,    0,    0,    0,    0,    0,    0,    0,    0,    0,    0,    0,    0,    0,    0,    0,    0,    0,    0,    0,    0,    0,    0,    0,    0,    0,    0,    0,    0,    0,    0,    0,    0,    0,    0,    0,    0,    0,    0,    0,    0,    0,    0,    0,    0,    0,    0,    0,    0,    0,    0,    0,    0,    0,    0,    0,    0,    0,    0,    0,    0,    0,    0,    0,    0,    0,    0,    0,    0,    0,    0,    0,    0,    0,    0,    0,    0,    0,    0,    0,    0,    0,    0,    0,    0,    0,    0,    0,    0,    0,    0,    0,    0,    0,    0,    0,    0,    0,    0,    0,    0,    0,    0,    0,    0,    0,    0,    0,    0,    0,    0,    0,    0,    0,    0,    0,    0,    0,    0,    0,    0,    0,    0,    0,    0,    0,    0,    0,    0,    0,    0,    0,    0,    0,    0,    0,    0,    0,    0,    0,    0,    0,    0,    0,    0,    0,    0,    0,    0,    0,    0,    0,    0,    0,    0,    0,    0,    0,    0,    0,    0,    0,    0,    0,    0,    0,    0,    0,    0,    0,    0,    0,    0,    0,    0,    0,    0,    0,    0,    0,    0,    0,    0,    0,    0,    0,    0,    0,    0,    0,    0,    0,    0,    0,    0,    0,    0,    0,    0,    0,    0,    0,    0,    0,    0,    0,    0,    0,    0,    0,    0,    0,    0,    0,    0,    0,    0,    0,    0,    0,    0,    0,    0,    0,    0,    0,    0,    0,    0,    0,    0,    0,    0,    0,    0,    0,    0,    0,    0,    0,    0,    0,    0,    0,    0,    0,    0,    0,    0,    0,    0,    0,    0,    0,    0,    0,    0,    0,    0,    0,    0,    0,    0,    0,    0,    0,    0,    0,    0,    0,    0,    0], [1, 1, 1, 1, 1, 1, 1, 1, 1, 1, 1, 1, 1, 1, 1, 1, 2, 2, 2, 2, 2, 2, 2, 2, 2, 2, 2, 2, 0, 0, 0, 0, 0, 0, 0, 0, 0, 0, 0, 0, 0, 0, 0, 0, 0, 0, 0, 0, 0, 0, 0, 0, 0, 0, 0, 0, 0, 0, 0, 0, 0, 0, 0, 0, 0, 0, 0, 0, 0, 0, 0, 0, 0, 0, 0, 0, 0, 0, 0, 0, 0, 0, 0, 0, 0, 0, 0, 0, 0, 0, 0, 0, 0, 0, 0, 0, 0, 0, 0, 0, 0, 0, 0, 0, 0, 0, 0, 0, 0, 0, 0, 0, 0, 0, 0, 0, 0, 0, 0, 0, 0, 0, 0, 0, 0, 0, 0, 0, 0, 0, 0, 0, 0, 0, 0, 0, 0, 0, 0, 0, 0, 0, 0, 0, 0, 0, 0, 0, 0, 0, 0, 0, 0, 0, 0, 0, 0, 0, 0, 0, 0, 0, 0, 0, 0, 0, 0, 0, 0, 0, 0, 0, 0, 0, 0, 0, 0, 0, 0, 0, 0, 0, 0, 0, 0, 0, 0, 0, 0, 0, 0, 0, 0, 0, 0, 0, 0, 0, 0, 0, 0, 0, 0, 0, 0, 0, 0, 0, 0, 0, 0, 0, 0, 0, 0, 0, 0, 0, 0, 0, 0, 0, 0, 0, 0, 0, 0, 0, 0, 0, 0, 0, 0, 0, 0, 0, 0, 0, 0, 0, 0, 0, 0, 0, 0, 0, 0, 0, 0, 0, 0, 0, 0, 0, 0, 0, 0, 0, 0, 0, 0, 0, 0, 0, 0, 0, 0, 0, 0, 0, 0, 0, 0, 0, 0, 0, 0, 0, 0, 0, 0, 0, 0, 0, 0, 0, 0, 0, 0, 0, 0, 0, 0, 0, 0, 0, 0, 0, 0, 0]),\n",
       "       ([-1.99726187e-02, -1.93682201e-02,  7.35002710e-03, ..., -9.34271328e-03,  3.60623896e-02,  2.49911137e-02],  5. , [ 132,  137,  139,  146,  148,  247,  304,  322,  414,  416,  474,  487,  496,  500,  539,  602,  695,  779,  820,  942,  976,  982, 1109, 1167, 1379, 2250,    0,    0,    0,    0,    0,    0,    0,    0,    0,    0,    0,    0,    0,    0,    0,    0,    0,    0,    0,    0,    0,    0,    0,    0,    0,    0,    0,    0,    0,    0,    0,    0,    0,    0,    0,    0,    0,    0,    0,    0,    0,    0,    0,    0,    0,    0,    0,    0,    0,    0,    0,    0,    0,    0,    0,    0,    0,    0,    0,    0,    0,    0,    0,    0,    0,    0,    0,    0,    0,    0,    0,    0,    0,    0,    0,    0,    0,    0,    0,    0,    0,    0,    0,    0,    0,    0,    0,    0,    0,    0,    0,    0,    0,    0,    0,    0,    0,    0,    0,    0,    0,    0,    0,    0,    0,    0,    0,    0,    0,    0,    0,    0,    0,    0,    0,    0,    0,    0,    0,    0,    0,    0,    0,    0,    0,    0,    0,    0,    0,    0,    0,    0,    0,    0,    0,    0,    0,    0,    0,    0,    0,    0,    0,    0,    0,    0,    0,    0,    0,    0,    0,    0,    0,    0,    0,    0,    0,    0,    0,    0,    0,    0,    0,    0,    0,    0,    0,    0,    0,    0,    0,    0,    0,    0,    0,    0,    0,    0,    0,    0,    0,    0,    0,    0,    0,    0,    0,    0,    0,    0,    0,    0,    0,    0,    0,    0,    0,    0,    0,    0,    0,    0,    0,    0,    0,    0,    0,    0,    0,    0,    0,    0,    0,    0,    0,    0,    0,    0,    0,    0,    0,    0,    0,    0,    0,    0,    0,    0,    0,    0,    0,    0,    0,    0,    0,    0,    0,    0,    0,    0,    0,    0,    0,    0,    0,    0,    0,    0,    0,    0,    0,    0,    0,    0,    0,    0,    0,    0,    0,    0,    0,    0,    0,    0,    0,    0,    0,    0,    0,    0,    0,    0,    0,    0], [1, 1, 1, 1, 1, 1, 1, 1, 1, 1, 1, 1, 1, 1, 1, 1, 1, 1, 1, 1, 1, 1, 1, 1, 1, 1, 0, 0, 0, 0, 0, 0, 0, 0, 0, 0, 0, 0, 0, 0, 0, 0, 0, 0, 0, 0, 0, 0, 0, 0, 0, 0, 0, 0, 0, 0, 0, 0, 0, 0, 0, 0, 0, 0, 0, 0, 0, 0, 0, 0, 0, 0, 0, 0, 0, 0, 0, 0, 0, 0, 0, 0, 0, 0, 0, 0, 0, 0, 0, 0, 0, 0, 0, 0, 0, 0, 0, 0, 0, 0, 0, 0, 0, 0, 0, 0, 0, 0, 0, 0, 0, 0, 0, 0, 0, 0, 0, 0, 0, 0, 0, 0, 0, 0, 0, 0, 0, 0, 0, 0, 0, 0, 0, 0, 0, 0, 0, 0, 0, 0, 0, 0, 0, 0, 0, 0, 0, 0, 0, 0, 0, 0, 0, 0, 0, 0, 0, 0, 0, 0, 0, 0, 0, 0, 0, 0, 0, 0, 0, 0, 0, 0, 0, 0, 0, 0, 0, 0, 0, 0, 0, 0, 0, 0, 0, 0, 0, 0, 0, 0, 0, 0, 0, 0, 0, 0, 0, 0, 0, 0, 0, 0, 0, 0, 0, 0, 0, 0, 0, 0, 0, 0, 0, 0, 0, 0, 0, 0, 0, 0, 0, 0, 0, 0, 0, 0, 0, 0, 0, 0, 0, 0, 0, 0, 0, 0, 0, 0, 0, 0, 0, 0, 0, 0, 0, 0, 0, 0, 0, 0, 0, 0, 0, 0, 0, 0, 0, 0, 0, 0, 0, 0, 0, 0, 0, 0, 0, 0, 0, 0, 0, 0, 0, 0, 0, 0, 0, 0, 0, 0, 0, 0, 0, 0, 0, 0, 0, 0, 0, 0, 0, 0, 0, 0, 0, 0, 0, 0, 0, 0]),\n",
       "       ([-2.82771587e-02, -7.44049065e-03,  3.07419058e-03, ...,  5.69541473e-03, -3.26948836e-02,  3.13824671e-03],  5. , [   1,  133,  139,  145,  177,  183,  184,  217,  233,  355,  504,  522,  547,  566,  730,  740,  803,  907, 1054, 1094, 1246, 1298, 1366, 1431, 1447, 1486, 1721, 2373,    0,    0,    0,    0,    0,    0,    0,    0,    0,    0,    0,    0,    0,    0,    0,    0,    0,    0,    0,    0,    0,    0,    0,    0,    0,    0,    0,    0,    0,    0,    0,    0,    0,    0,    0,    0,    0,    0,    0,    0,    0,    0,    0,    0,    0,    0,    0,    0,    0,    0,    0,    0,    0,    0,    0,    0,    0,    0,    0,    0,    0,    0,    0,    0,    0,    0,    0,    0,    0,    0,    0,    0,    0,    0,    0,    0,    0,    0,    0,    0,    0,    0,    0,    0,    0,    0,    0,    0,    0,    0,    0,    0,    0,    0,    0,    0,    0,    0,    0,    0,    0,    0,    0,    0,    0,    0,    0,    0,    0,    0,    0,    0,    0,    0,    0,    0,    0,    0,    0,    0,    0,    0,    0,    0,    0,    0,    0,    0,    0,    0,    0,    0,    0,    0,    0,    0,    0,    0,    0,    0,    0,    0,    0,    0,    0,    0,    0,    0,    0,    0,    0,    0,    0,    0,    0,    0,    0,    0,    0,    0,    0,    0,    0,    0,    0,    0,    0,    0,    0,    0,    0,    0,    0,    0,    0,    0,    0,    0,    0,    0,    0,    0,    0,    0,    0,    0,    0,    0,    0,    0,    0,    0,    0,    0,    0,    0,    0,    0,    0,    0,    0,    0,    0,    0,    0,    0,    0,    0,    0,    0,    0,    0,    0,    0,    0,    0,    0,    0,    0,    0,    0,    0,    0,    0,    0,    0,    0,    0,    0,    0,    0,    0,    0,    0,    0,    0,    0,    0,    0,    0,    0,    0,    0,    0,    0,    0,    0,    0,    0,    0,    0,    0,    0,    0,    0,    0,    0,    0,    0,    0,    0,    0,    0,    0,    0,    0,    0,    0,    0,    0,    0,    0], [1, 1, 1, 1, 1, 1, 1, 1, 1, 1, 1, 1, 1, 1, 1, 1, 1, 1, 1, 1, 1, 1, 1, 2, 1, 1, 1, 1, 0, 0, 0, 0, 0, 0, 0, 0, 0, 0, 0, 0, 0, 0, 0, 0, 0, 0, 0, 0, 0, 0, 0, 0, 0, 0, 0, 0, 0, 0, 0, 0, 0, 0, 0, 0, 0, 0, 0, 0, 0, 0, 0, 0, 0, 0, 0, 0, 0, 0, 0, 0, 0, 0, 0, 0, 0, 0, 0, 0, 0, 0, 0, 0, 0, 0, 0, 0, 0, 0, 0, 0, 0, 0, 0, 0, 0, 0, 0, 0, 0, 0, 0, 0, 0, 0, 0, 0, 0, 0, 0, 0, 0, 0, 0, 0, 0, 0, 0, 0, 0, 0, 0, 0, 0, 0, 0, 0, 0, 0, 0, 0, 0, 0, 0, 0, 0, 0, 0, 0, 0, 0, 0, 0, 0, 0, 0, 0, 0, 0, 0, 0, 0, 0, 0, 0, 0, 0, 0, 0, 0, 0, 0, 0, 0, 0, 0, 0, 0, 0, 0, 0, 0, 0, 0, 0, 0, 0, 0, 0, 0, 0, 0, 0, 0, 0, 0, 0, 0, 0, 0, 0, 0, 0, 0, 0, 0, 0, 0, 0, 0, 0, 0, 0, 0, 0, 0, 0, 0, 0, 0, 0, 0, 0, 0, 0, 0, 0, 0, 0, 0, 0, 0, 0, 0, 0, 0, 0, 0, 0, 0, 0, 0, 0, 0, 0, 0, 0, 0, 0, 0, 0, 0, 0, 0, 0, 0, 0, 0, 0, 0, 0, 0, 0, 0, 0, 0, 0, 0, 0, 0, 0, 0, 0, 0, 0, 0, 0, 0, 0, 0, 0, 0, 0, 0, 0, 0, 0, 0, 0, 0, 0, 0, 0, 0, 0, 0, 0, 0, 0, 0, 0])],\n",
       "      dtype=[('wf_i', '<f4', (3000,)), ('mom', '<f4'), ('tag_times', '<i4', (300,)), ('tag_values', '<i4', (300,))])"
      ]
     },
     "execution_count": 8,
     "metadata": {},
     "output_type": "execute_result"
    }
   ],
   "source": [
    "process_in_batches(\"./pion_urls.txt\", \"pion\", batch_size=10, max_tags=300)"
   ]
  },
  {
   "cell_type": "code",
   "execution_count": 12,
   "id": "be59b67a",
   "metadata": {},
   "outputs": [
    {
     "data": {
      "text/plain": [
       "'2.14.0'"
      ]
     },
     "execution_count": 12,
     "metadata": {},
     "output_type": "execute_result"
    }
   ],
   "source": [
    "import tensorflow as tf\n",
    "tf.__version__"
   ]
  }
 ],
 "metadata": {
  "@webio": {
   "lastCommId": null,
   "lastKernelId": null
  },
  "kernelspec": {
   "display_name": "hls4ml_alt_CEPC",
   "language": "python",
   "name": "python3"
  },
  "language_info": {
   "codemirror_mode": {
    "name": "ipython",
    "version": 3
   },
   "file_extension": ".py",
   "mimetype": "text/x-python",
   "name": "python",
   "nbconvert_exporter": "python",
   "pygments_lexer": "ipython3",
   "version": "3.10.16"
  }
 },
 "nbformat": 4,
 "nbformat_minor": 5
}
